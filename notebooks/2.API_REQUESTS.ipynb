{
 "cells": [
  {
   "cell_type": "code",
   "execution_count": 10,
   "id": "31d38d52",
   "metadata": {},
   "outputs": [],
   "source": [
    "import requests"
   ]
  },
  {
   "cell_type": "markdown",
   "id": "3201186a",
   "metadata": {},
   "source": [
    "## LLAMADAS A LA API PARA OBTENER DATOS (GET):"
   ]
  },
  {
   "cell_type": "markdown",
   "id": "93746513",
   "metadata": {},
   "source": [
    "#### Endpoint  AUTORES."
   ]
  },
  {
   "cell_type": "code",
   "execution_count": 17,
   "id": "94b94ada",
   "metadata": {},
   "outputs": [],
   "source": [
    "autores=requests.get(\"http://127.0.0.1:5000/autores\")"
   ]
  },
  {
   "cell_type": "code",
   "execution_count": 18,
   "id": "bf971479",
   "metadata": {},
   "outputs": [
    {
     "data": {
      "text/plain": [
       "<Response [200]>"
      ]
     },
     "execution_count": 18,
     "metadata": {},
     "output_type": "execute_result"
    }
   ],
   "source": [
    "autores"
   ]
  },
  {
   "cell_type": "code",
   "execution_count": 19,
   "id": "df9472ca",
   "metadata": {},
   "outputs": [],
   "source": [
    "#autores.json()"
   ]
  },
  {
   "cell_type": "markdown",
   "id": "ed1cd233",
   "metadata": {},
   "source": [
    "####  Endpoint  FRASES."
   ]
  },
  {
   "cell_type": "code",
   "execution_count": 24,
   "id": "ab1d4431",
   "metadata": {},
   "outputs": [],
   "source": [
    "frases=requests.get(\"http://127.0.0.1:5000/frases\")"
   ]
  },
  {
   "cell_type": "code",
   "execution_count": 25,
   "id": "e2b7deac",
   "metadata": {},
   "outputs": [
    {
     "data": {
      "text/plain": [
       "<Response [200]>"
      ]
     },
     "execution_count": 25,
     "metadata": {},
     "output_type": "execute_result"
    }
   ],
   "source": [
    "frases"
   ]
  },
  {
   "cell_type": "code",
   "execution_count": 27,
   "id": "3f06d9fb",
   "metadata": {},
   "outputs": [],
   "source": [
    "#frases.json()"
   ]
  },
  {
   "cell_type": "markdown",
   "id": "495f8088",
   "metadata": {},
   "source": [
    "####  Endpoint  FRASES POR AUTOR."
   ]
  },
  {
   "cell_type": "code",
   "execution_count": 99,
   "id": "75549529",
   "metadata": {},
   "outputs": [],
   "source": [
    "autor=\"Voltaire\""
   ]
  },
  {
   "cell_type": "code",
   "execution_count": 100,
   "id": "70638501",
   "metadata": {},
   "outputs": [],
   "source": [
    "frase_porautor=requests.get(f\"http://127.0.0.1:5000/frases/{autor}\")"
   ]
  },
  {
   "cell_type": "code",
   "execution_count": 102,
   "id": "1b04558b",
   "metadata": {},
   "outputs": [],
   "source": [
    "#frase_porautor.json()"
   ]
  },
  {
   "cell_type": "markdown",
   "id": "6f489c37",
   "metadata": {},
   "source": [
    "####  Endpoint  FRASES POR GÉNERO."
   ]
  },
  {
   "cell_type": "code",
   "execution_count": 109,
   "id": "552f94e3",
   "metadata": {},
   "outputs": [],
   "source": [
    "genero='age'"
   ]
  },
  {
   "cell_type": "code",
   "execution_count": 69,
   "id": "c3ff560e",
   "metadata": {},
   "outputs": [],
   "source": [
    "frase_porgenero=requests.get(f\"http://127.0.0.1:5000/frases_g/{genero}\")"
   ]
  },
  {
   "cell_type": "code",
   "execution_count": 71,
   "id": "6419578d",
   "metadata": {},
   "outputs": [],
   "source": [
    "#frase_porgenero.json()"
   ]
  },
  {
   "cell_type": "markdown",
   "id": "49a7d7aa",
   "metadata": {},
   "source": [
    "#### Endpoint FRASE DEL DÍA:"
   ]
  },
  {
   "cell_type": "code",
   "execution_count": 72,
   "id": "8f50fe7e",
   "metadata": {},
   "outputs": [],
   "source": [
    "frase_dia=requests.get(\"http://127.0.0.1:5000/random\")"
   ]
  },
  {
   "cell_type": "code",
   "execution_count": 73,
   "id": "12f20512",
   "metadata": {},
   "outputs": [
    {
     "data": {
      "text/plain": [
       "{'2021-11-29 19:36:58.429857': {'La frase del día es': 'What greater aspiration and challenge are there for a mother than the hope of raising a great son or daughter?'}}"
      ]
     },
     "execution_count": 73,
     "metadata": {},
     "output_type": "execute_result"
    }
   ],
   "source": [
    "frase_dia.json()"
   ]
  },
  {
   "cell_type": "markdown",
   "id": "4d2cad89",
   "metadata": {},
   "source": [
    "####  Endpoint FRASE RANDOM POR AUTOR Y GÉNERO:"
   ]
  },
  {
   "cell_type": "code",
   "execution_count": 22,
   "id": "e609326b",
   "metadata": {},
   "outputs": [],
   "source": [
    "genero=\"age\""
   ]
  },
  {
   "cell_type": "code",
   "execution_count": 23,
   "id": "7c68abc6",
   "metadata": {},
   "outputs": [],
   "source": [
    "autor=\"Voltaire\""
   ]
  },
  {
   "cell_type": "code",
   "execution_count": 31,
   "id": "2bf51a3a",
   "metadata": {},
   "outputs": [],
   "source": [
    "frase_aut_gen=requests.get(f\"http://127.0.0.1:5000/frases_/{genero}/{autor}\")"
   ]
  },
  {
   "cell_type": "code",
   "execution_count": 33,
   "id": "b5e8a42d",
   "metadata": {},
   "outputs": [
    {
     "data": {
      "text/plain": [
       "{\"La frase de 'Voltaire' sobre 'age' es \": {'esta ': 'He who has not the spirit of this age, has all the misery of it.'}}"
      ]
     },
     "execution_count": 33,
     "metadata": {},
     "output_type": "execute_result"
    }
   ],
   "source": [
    "frase_aut_gen.json()"
   ]
  },
  {
   "cell_type": "markdown",
   "id": "2279cca8",
   "metadata": {},
   "source": [
    "####  Endpoint FRASE RANDOM POR AUTOR Y GÉNERO TRADUCIDA:"
   ]
  },
  {
   "cell_type": "code",
   "execution_count": 42,
   "id": "9cdfde9c",
   "metadata": {},
   "outputs": [],
   "source": [
    "idioma=\"es\""
   ]
  },
  {
   "cell_type": "code",
   "execution_count": 43,
   "id": "007d3fbc",
   "metadata": {},
   "outputs": [],
   "source": [
    "trans=requests.get(f\"http://127.0.0.1:5000/frases_lan/{genero}/{autor}?idioma={idioma}\")"
   ]
  },
  {
   "cell_type": "code",
   "execution_count": 44,
   "id": "d783633d",
   "metadata": {},
   "outputs": [
    {
     "data": {
      "text/plain": [
       "'Traducción: {\"La frase de \\'Voltaire\\' sobre \\'age\\' es\": {\\'esta\\': \\'Lo que la mayoría de las personas considera una virtud, después de los 40 es simplemente una pérdida de energía.\\'}}'"
      ]
     },
     "execution_count": 44,
     "metadata": {},
     "output_type": "execute_result"
    }
   ],
   "source": [
    "trans.json()"
   ]
  },
  {
   "cell_type": "markdown",
   "id": "a54a3c8a",
   "metadata": {},
   "source": [
    "####  Endpoint ANÁLISIS DE SENTIMIENTOS:"
   ]
  },
  {
   "cell_type": "code",
   "execution_count": 51,
   "id": "03fde409",
   "metadata": {},
   "outputs": [],
   "source": [
    "autor=\"Emily Carr\""
   ]
  },
  {
   "cell_type": "code",
   "execution_count": 52,
   "id": "d7078daf",
   "metadata": {},
   "outputs": [],
   "source": [
    "NLP=requests.get(f\"http://127.0.0.1:5000/NLP/{autor}\")"
   ]
  },
  {
   "cell_type": "code",
   "execution_count": 53,
   "id": "81db9d6e",
   "metadata": {},
   "outputs": [
    {
     "data": {
      "text/plain": [
       "0.04336000000000001"
      ]
     },
     "execution_count": 53,
     "metadata": {},
     "output_type": "execute_result"
    }
   ],
   "source": [
    "NLP.json()"
   ]
  },
  {
   "cell_type": "markdown",
   "id": "3ef902b7",
   "metadata": {},
   "source": [
    "## Llamada a la API para INTRODUCIR datos (POST):"
   ]
  },
  {
   "cell_type": "markdown",
   "id": "f5b70b10",
   "metadata": {},
   "source": [
    "####  Endpoint NUEVA FRASE:"
   ]
  },
  {
   "cell_type": "code",
   "execution_count": 48,
   "id": "7514f1b3",
   "metadata": {},
   "outputs": [],
   "source": [
    "url = \"http://127.0.0.1:5000/nuevafrase\""
   ]
  },
  {
   "cell_type": "code",
   "execution_count": 49,
   "id": "7cbea310",
   "metadata": {},
   "outputs": [],
   "source": [
    "quote={\"author\":17, \"genre\":52, \"quote\":\"In joined hands there is still some token of hope, in the clenched fist none\"}"
   ]
  },
  {
   "cell_type": "code",
   "execution_count": 50,
   "id": "8bb411ce",
   "metadata": {},
   "outputs": [
    {
     "data": {
      "text/plain": [
       "<Response [200]>"
      ]
     },
     "execution_count": 50,
     "metadata": {},
     "output_type": "execute_result"
    }
   ],
   "source": [
    "requests.post(\"http://127.0.0.1:5000/nuevafrase\", data=quote)"
   ]
  },
  {
   "cell_type": "markdown",
   "id": "08fa3b3c",
   "metadata": {},
   "source": [
    "####  Endpoint NUEVO AUTOR:"
   ]
  },
  {
   "cell_type": "code",
   "execution_count": 66,
   "id": "f515a0af",
   "metadata": {},
   "outputs": [],
   "source": [
    "url = \"http://127.0.0.1:5000/nuevoautor\""
   ]
  },
  {
   "cell_type": "code",
   "execution_count": 67,
   "id": "05128ca8",
   "metadata": {},
   "outputs": [],
   "source": [
    "autor= {\"author\":\"Calderón de la Barca\"}"
   ]
  },
  {
   "cell_type": "code",
   "execution_count": 68,
   "id": "698f37d2",
   "metadata": {},
   "outputs": [
    {
     "data": {
      "text/plain": [
       "<Response [200]>"
      ]
     },
     "execution_count": 68,
     "metadata": {},
     "output_type": "execute_result"
    }
   ],
   "source": [
    "requests.post(\"http://127.0.0.1:5000/nuevoautor\", data=autor)"
   ]
  }
 ],
 "metadata": {
  "kernelspec": {
   "display_name": "ironhack",
   "language": "python",
   "name": "ironhack"
  },
  "language_info": {
   "codemirror_mode": {
    "name": "ipython",
    "version": 3
   },
   "file_extension": ".py",
   "mimetype": "text/x-python",
   "name": "python",
   "nbconvert_exporter": "python",
   "pygments_lexer": "ipython3",
   "version": "3.8.5"
  }
 },
 "nbformat": 4,
 "nbformat_minor": 5
}
