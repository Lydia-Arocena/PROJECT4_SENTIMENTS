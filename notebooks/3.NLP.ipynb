{
 "cells": [
  {
   "cell_type": "code",
   "execution_count": 138,
   "id": "efb612fc",
   "metadata": {},
   "outputs": [],
   "source": [
    "import string\n",
    "import spacy\n",
    "import en_core_web_sm\n",
    "from nltk.corpus import stopwords\n",
    "import re\n",
    "import pandas as pd\n",
    "import requests\n",
    "import seaborn as sns\n",
    "import matplotlib.pyplot as plt\n",
    "import pandas as pd\n",
    "sns.set_context(\"poster\")\n",
    "sns.set(rc={\"figure.figsize\": (12.,6.)})\n",
    "sns.set_style(\"whitegrid\")"
   ]
  },
  {
   "cell_type": "markdown",
   "id": "ba2ec919",
   "metadata": {},
   "source": [
    "### Comparación del análisis de sentimiento de Nietzsche vs Gandhi mediante una visualización:"
   ]
  },
  {
   "cell_type": "code",
   "execution_count": 120,
   "id": "def33312",
   "metadata": {},
   "outputs": [],
   "source": [
    "Autores=[\"Friedrich Nietzsche\", \"Mahatma Gandhi\"]"
   ]
  },
  {
   "cell_type": "code",
   "execution_count": 121,
   "id": "37aed733",
   "metadata": {},
   "outputs": [
    {
     "data": {
      "text/html": [
       "<div>\n",
       "<style scoped>\n",
       "    .dataframe tbody tr th:only-of-type {\n",
       "        vertical-align: middle;\n",
       "    }\n",
       "\n",
       "    .dataframe tbody tr th {\n",
       "        vertical-align: top;\n",
       "    }\n",
       "\n",
       "    .dataframe thead th {\n",
       "        text-align: right;\n",
       "    }\n",
       "</style>\n",
       "<table border=\"1\" class=\"dataframe\">\n",
       "  <thead>\n",
       "    <tr style=\"text-align: right;\">\n",
       "      <th></th>\n",
       "      <th>0</th>\n",
       "    </tr>\n",
       "  </thead>\n",
       "  <tbody>\n",
       "    <tr>\n",
       "      <th>0</th>\n",
       "      <td>Friedrich Nietzsche</td>\n",
       "    </tr>\n",
       "    <tr>\n",
       "      <th>1</th>\n",
       "      <td>Mahatma Gandhi</td>\n",
       "    </tr>\n",
       "  </tbody>\n",
       "</table>\n",
       "</div>"
      ],
      "text/plain": [
       "                     0\n",
       "0  Friedrich Nietzsche\n",
       "1       Mahatma Gandhi"
      ]
     },
     "execution_count": 121,
     "metadata": {},
     "output_type": "execute_result"
    }
   ],
   "source": [
    "pd.DataFrame(Autores)"
   ]
  },
  {
   "cell_type": "code",
   "execution_count": 122,
   "id": "0b27198d",
   "metadata": {},
   "outputs": [
    {
     "name": "stdout",
     "output_type": "stream",
     "text": [
      "0.26650591715976335\n",
      "0.1824760479041916\n"
     ]
    }
   ],
   "source": [
    "response_dict = {}\n",
    "for autor in Autores:\n",
    "    NLP=requests.get(f\"http://127.0.0.1:5000/NLP/{autor}\")\n",
    "    response=NLP.json()\n",
    "    response_dict[autor] = response\n",
    "    print(response)    "
   ]
  },
  {
   "cell_type": "code",
   "execution_count": 123,
   "id": "bbe583f4",
   "metadata": {},
   "outputs": [
    {
     "data": {
      "text/plain": [
       "{'Friedrich Nietzsche': 0.26650591715976335,\n",
       " 'Mahatma Gandhi': 0.1824760479041916}"
      ]
     },
     "execution_count": 123,
     "metadata": {},
     "output_type": "execute_result"
    }
   ],
   "source": [
    "response_dict"
   ]
  },
  {
   "cell_type": "code",
   "execution_count": 131,
   "id": "dc4650f4",
   "metadata": {},
   "outputs": [],
   "source": [
    "df=pd.DataFrame(response_dict,  index=[0])"
   ]
  },
  {
   "cell_type": "code",
   "execution_count": 132,
   "id": "26d1db79",
   "metadata": {},
   "outputs": [],
   "source": [
    "tras=df.transpose()"
   ]
  },
  {
   "cell_type": "code",
   "execution_count": 133,
   "id": "c7bcd771",
   "metadata": {},
   "outputs": [],
   "source": [
    "df2=tras.reset_index()"
   ]
  },
  {
   "cell_type": "code",
   "execution_count": 135,
   "id": "b0889ce6",
   "metadata": {},
   "outputs": [],
   "source": [
    "df2.rename(columns={\"index\": \"Autores\", 0: \"Compound\"}, inplace=True)"
   ]
  },
  {
   "cell_type": "code",
   "execution_count": 136,
   "id": "2205aa15",
   "metadata": {},
   "outputs": [
    {
     "data": {
      "text/html": [
       "<div>\n",
       "<style scoped>\n",
       "    .dataframe tbody tr th:only-of-type {\n",
       "        vertical-align: middle;\n",
       "    }\n",
       "\n",
       "    .dataframe tbody tr th {\n",
       "        vertical-align: top;\n",
       "    }\n",
       "\n",
       "    .dataframe thead th {\n",
       "        text-align: right;\n",
       "    }\n",
       "</style>\n",
       "<table border=\"1\" class=\"dataframe\">\n",
       "  <thead>\n",
       "    <tr style=\"text-align: right;\">\n",
       "      <th></th>\n",
       "      <th>Autores</th>\n",
       "      <th>Compound</th>\n",
       "    </tr>\n",
       "  </thead>\n",
       "  <tbody>\n",
       "    <tr>\n",
       "      <th>0</th>\n",
       "      <td>Friedrich Nietzsche</td>\n",
       "      <td>0.266506</td>\n",
       "    </tr>\n",
       "    <tr>\n",
       "      <th>1</th>\n",
       "      <td>Mahatma Gandhi</td>\n",
       "      <td>0.182476</td>\n",
       "    </tr>\n",
       "  </tbody>\n",
       "</table>\n",
       "</div>"
      ],
      "text/plain": [
       "               Autores  Compound\n",
       "0  Friedrich Nietzsche  0.266506\n",
       "1       Mahatma Gandhi  0.182476"
      ]
     },
     "execution_count": 136,
     "metadata": {},
     "output_type": "execute_result"
    }
   ],
   "source": [
    "df2"
   ]
  },
  {
   "cell_type": "code",
   "execution_count": null,
   "id": "d0e8def7",
   "metadata": {},
   "outputs": [],
   "source": [
    "x=\"year\", y=\"passengers\", data=vuelos,ci=\"sd\""
   ]
  },
  {
   "cell_type": "code",
   "execution_count": 146,
   "id": "6db28035",
   "metadata": {},
   "outputs": [
    {
     "data": {
      "image/png": "[encoded data removed]",
      "text/plain": [
       "<Figure size 864x432 with 1 Axes>"
      ]
     },
     "metadata": {},
     "output_type": "display_data"
    }
   ],
   "source": [
    "sns.barplot(x=\"Autores\", y=\"Compound\", data=df2, palette=\"magma\");"
   ]
  },
  {
   "cell_type": "markdown",
   "id": "7c25b47a",
   "metadata": {},
   "source": [
    "Como el compound score >= 0.05, sería un sentimiento positivo en el caso de las frases de ambos autores. Sin embargo, conociendo las temáticas tan opuestas sobre las que escríbían el uno y el otro, parece que este tipo de análisis no es del todo exacto y fiable."
   ]
  }
 ],
 "metadata": {
  "kernelspec": {
   "display_name": "ironhack",
   "language": "python",
   "name": "ironhack"
  },
  "language_info": {
   "codemirror_mode": {
    "name": "ipython",
    "version": 3
   },
   "file_extension": ".py",
   "mimetype": "text/x-python",
   "name": "python",
   "nbconvert_exporter": "python",
   "pygments_lexer": "ipython3",
   "version": "3.8.5"
  }
 },
 "nbformat": 4,
 "nbformat_minor": 5
}
