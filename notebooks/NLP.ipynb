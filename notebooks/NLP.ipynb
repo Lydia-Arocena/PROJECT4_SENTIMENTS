{
 "cells": [
  {
   "cell_type": "code",
   "execution_count": 70,
   "id": "227013e4",
   "metadata": {},
   "outputs": [],
   "source": [
    "import string\n",
    "import spacy\n",
    "import en_core_web_sm\n",
    "from nltk.corpus import stopwords\n",
    "import re\n",
    "import pandas as pd\n",
    "import requests"
   ]
  },
  {
   "cell_type": "code",
   "execution_count": 71,
   "id": "31a767e5",
   "metadata": {},
   "outputs": [],
   "source": [
    "Autores=[\"Friedrich Nietzsche\", \"Nelson Mandela\"]"
   ]
  },
  {
   "cell_type": "code",
   "execution_count": 72,
   "id": "8a18b202",
   "metadata": {},
   "outputs": [
    {
     "data": {
      "text/html": [
       "<div>\n",
       "<style scoped>\n",
       "    .dataframe tbody tr th:only-of-type {\n",
       "        vertical-align: middle;\n",
       "    }\n",
       "\n",
       "    .dataframe tbody tr th {\n",
       "        vertical-align: top;\n",
       "    }\n",
       "\n",
       "    .dataframe thead th {\n",
       "        text-align: right;\n",
       "    }\n",
       "</style>\n",
       "<table border=\"1\" class=\"dataframe\">\n",
       "  <thead>\n",
       "    <tr style=\"text-align: right;\">\n",
       "      <th></th>\n",
       "      <th>0</th>\n",
       "    </tr>\n",
       "  </thead>\n",
       "  <tbody>\n",
       "    <tr>\n",
       "      <th>0</th>\n",
       "      <td>Friedrich Nietzsche</td>\n",
       "    </tr>\n",
       "    <tr>\n",
       "      <th>1</th>\n",
       "      <td>Nelson Mandela</td>\n",
       "    </tr>\n",
       "  </tbody>\n",
       "</table>\n",
       "</div>"
      ],
      "text/plain": [
       "                     0\n",
       "0  Friedrich Nietzsche\n",
       "1       Nelson Mandela"
      ]
     },
     "execution_count": 72,
     "metadata": {},
     "output_type": "execute_result"
    }
   ],
   "source": [
    "pd.DataFrame(Autores)"
   ]
  },
  {
   "cell_type": "code",
   "execution_count": 76,
   "id": "f1c20f66",
   "metadata": {},
   "outputs": [
    {
     "name": "stdout",
     "output_type": "stream",
     "text": [
      "<Response [200]>\n",
      "None\n",
      "<Response [200]>\n",
      "None\n"
     ]
    }
   ],
   "source": [
    "lista=[]\n",
    "for autor in Autores:\n",
    "    NLP=requests.get(f\"http://127.0.0.1:5000/NLP/{autor}\"))\n",
    "    resultado=lista.append(NLP)\n",
    "    NLP.js\n",
    "    print(resultado)\n",
    "    #response=(resultado.json())"
   ]
  },
  {
   "cell_type": "code",
   "execution_count": 67,
   "id": "ed16243c",
   "metadata": {},
   "outputs": [
    {
     "name": "stdout",
     "output_type": "stream",
     "text": [
      "0.37441044776119403\n"
     ]
    }
   ],
   "source": [
    "\n",
    "print(response)"
   ]
  },
  {
   "cell_type": "code",
   "execution_count": null,
   "id": "3a959fa9",
   "metadata": {},
   "outputs": [],
   "source": []
  }
 ],
 "metadata": {
  "kernelspec": {
   "display_name": "ironhack",
   "language": "python",
   "name": "ironhack"
  },
  "language_info": {
   "codemirror_mode": {
    "name": "ipython",
    "version": 3
   },
   "file_extension": ".py",
   "mimetype": "text/x-python",
   "name": "python",
   "nbconvert_exporter": "python",
   "pygments_lexer": "ipython3",
   "version": "3.8.5"
  }
 },
 "nbformat": 4,
 "nbformat_minor": 5
}
