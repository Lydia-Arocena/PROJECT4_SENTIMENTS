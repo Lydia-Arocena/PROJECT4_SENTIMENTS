{
 "cells": [
  {
   "cell_type": "code",
   "execution_count": 35,
   "id": "5eb8fe32",
   "metadata": {},
   "outputs": [],
   "source": [
    "import string\n",
    "import spacy\n",
    "import en_core_web_sm\n",
    "from nltk.corpus import stopwords\n",
    "import re\n",
    "import pandas as pd\n",
    "import requests"
   ]
  },
  {
   "cell_type": "code",
   "execution_count": 44,
   "id": "9a86ba25",
   "metadata": {},
   "outputs": [],
   "source": [
    "Autores=[\"Pablo Picasso\", \"Emily Carr\"]"
   ]
  },
  {
   "cell_type": "code",
   "execution_count": 45,
   "id": "cf2ad49a",
   "metadata": {},
   "outputs": [
    {
     "data": {
      "text/html": [
       "<div>\n",
       "<style scoped>\n",
       "    .dataframe tbody tr th:only-of-type {\n",
       "        vertical-align: middle;\n",
       "    }\n",
       "\n",
       "    .dataframe tbody tr th {\n",
       "        vertical-align: top;\n",
       "    }\n",
       "\n",
       "    .dataframe thead th {\n",
       "        text-align: right;\n",
       "    }\n",
       "</style>\n",
       "<table border=\"1\" class=\"dataframe\">\n",
       "  <thead>\n",
       "    <tr style=\"text-align: right;\">\n",
       "      <th></th>\n",
       "      <th>0</th>\n",
       "    </tr>\n",
       "  </thead>\n",
       "  <tbody>\n",
       "    <tr>\n",
       "      <th>0</th>\n",
       "      <td>Pablo Picasso</td>\n",
       "    </tr>\n",
       "    <tr>\n",
       "      <th>1</th>\n",
       "      <td>Emily Carr</td>\n",
       "    </tr>\n",
       "  </tbody>\n",
       "</table>\n",
       "</div>"
      ],
      "text/plain": [
       "               0\n",
       "0  Pablo Picasso\n",
       "1     Emily Carr"
      ]
     },
     "execution_count": 45,
     "metadata": {},
     "output_type": "execute_result"
    }
   ],
   "source": [
    "pd.DataFrame(Autores)"
   ]
  },
  {
   "cell_type": "code",
   "execution_count": 46,
   "id": "5dae4914",
   "metadata": {},
   "outputs": [],
   "source": [
    "NLP=requests.get(f\"http://127.0.0.1:5000/NLP/{autor}\")"
   ]
  },
  {
   "cell_type": "code",
   "execution_count": 48,
   "id": "aafd415c",
   "metadata": {},
   "outputs": [
    {
     "name": "stdout",
     "output_type": "stream",
     "text": [
      "0.23272264150943395\n",
      "0.04336000000000001\n"
     ]
    }
   ],
   "source": [
    "for autor in Autores:\n",
    "    NLP=requests.get(f\"http://127.0.0.1:5000/NLP/{autor}\")\n",
    "    print(NLP.json())"
   ]
  },
  {
   "cell_type": "code",
   "execution_count": null,
   "id": "909d20d0",
   "metadata": {},
   "outputs": [],
   "source": []
  }
 ],
 "metadata": {
  "kernelspec": {
   "display_name": "ironhack",
   "language": "python",
   "name": "ironhack"
  },
  "language_info": {
   "codemirror_mode": {
    "name": "ipython",
    "version": 3
   },
   "file_extension": ".py",
   "mimetype": "text/x-python",
   "name": "python",
   "nbconvert_exporter": "python",
   "pygments_lexer": "ipython3",
   "version": "3.8.5"
  }
 },
 "nbformat": 4,
 "nbformat_minor": 5
}
