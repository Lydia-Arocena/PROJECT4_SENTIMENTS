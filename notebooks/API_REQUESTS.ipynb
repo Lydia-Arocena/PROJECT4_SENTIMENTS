{
 "cells": [
  {
   "cell_type": "code",
   "execution_count": 10,
   "id": "d624a8e5",
   "metadata": {},
   "outputs": [],
   "source": [
    "import requests"
   ]
  },
  {
   "cell_type": "markdown",
   "id": "55f1c929",
   "metadata": {},
   "source": [
    "### Endpoint  AUTORES."
   ]
  },
  {
   "cell_type": "code",
   "execution_count": 17,
   "id": "c4c4f6e8",
   "metadata": {},
   "outputs": [],
   "source": [
    "autores=requests.get(\"http://127.0.0.1:5000/autores\")"
   ]
  },
  {
   "cell_type": "code",
   "execution_count": 18,
   "id": "767cf312",
   "metadata": {},
   "outputs": [
    {
     "data": {
      "text/plain": [
       "<Response [200]>"
      ]
     },
     "execution_count": 18,
     "metadata": {},
     "output_type": "execute_result"
    }
   ],
   "source": [
    "autores"
   ]
  },
  {
   "cell_type": "code",
   "execution_count": 19,
   "id": "62c23580",
   "metadata": {},
   "outputs": [],
   "source": [
    "#autores.json()"
   ]
  },
  {
   "cell_type": "markdown",
   "id": "8f758161",
   "metadata": {},
   "source": [
    "### Endpoint  FRASES."
   ]
  },
  {
   "cell_type": "code",
   "execution_count": 24,
   "id": "608a8614",
   "metadata": {},
   "outputs": [],
   "source": [
    "frases=requests.get(\"http://127.0.0.1:5000/frases\")"
   ]
  },
  {
   "cell_type": "code",
   "execution_count": 25,
   "id": "c415a585",
   "metadata": {},
   "outputs": [
    {
     "data": {
      "text/plain": [
       "<Response [200]>"
      ]
     },
     "execution_count": 25,
     "metadata": {},
     "output_type": "execute_result"
    }
   ],
   "source": [
    "frases"
   ]
  },
  {
   "cell_type": "code",
   "execution_count": 27,
   "id": "95701ccf",
   "metadata": {},
   "outputs": [],
   "source": [
    "#frases.json()"
   ]
  },
  {
   "cell_type": "markdown",
   "id": "8f29a576",
   "metadata": {},
   "source": [
    "### Endpoint  FRASES POR AUTOR."
   ]
  },
  {
   "cell_type": "code",
   "execution_count": 99,
   "id": "37385ecd",
   "metadata": {},
   "outputs": [],
   "source": [
    "autor=\"Voltaire\""
   ]
  },
  {
   "cell_type": "code",
   "execution_count": 100,
   "id": "e4de620d",
   "metadata": {},
   "outputs": [],
   "source": [
    "frase_porautor=requests.get(f\"http://127.0.0.1:5000/frases/{autor}\")"
   ]
  },
  {
   "cell_type": "code",
   "execution_count": 102,
   "id": "d0b587db",
   "metadata": {},
   "outputs": [],
   "source": [
    "#frase_porautor.json()"
   ]
  },
  {
   "cell_type": "markdown",
   "id": "71131711",
   "metadata": {},
   "source": [
    "### Endpoint  FRASES POR GÉNERO."
   ]
  },
  {
   "cell_type": "code",
   "execution_count": 109,
   "id": "3dafd63c",
   "metadata": {},
   "outputs": [],
   "source": [
    "genero='age'"
   ]
  },
  {
   "cell_type": "code",
   "execution_count": 116,
   "id": "43ffd302",
   "metadata": {},
   "outputs": [],
   "source": [
    "frase_porgenero=requests.get(f\"http://127.0.0.1:5000/frases_g/{genero}\")"
   ]
  },
  {
   "cell_type": "code",
   "execution_count": 118,
   "id": "e21f727b",
   "metadata": {},
   "outputs": [],
   "source": [
    "#frase_porgenero.json()"
   ]
  },
  {
   "cell_type": "markdown",
   "id": "055f7f1f",
   "metadata": {},
   "source": [
    "### Endpoint FRASE DEL DÍA:"
   ]
  },
  {
   "cell_type": "code",
   "execution_count": 20,
   "id": "8ad1d0cb",
   "metadata": {},
   "outputs": [],
   "source": [
    "frase_dia=requests.get(\"http://127.0.0.1:5000/random\")"
   ]
  },
  {
   "cell_type": "code",
   "execution_count": 21,
   "id": "d60df9b5",
   "metadata": {},
   "outputs": [
    {
     "data": {
      "text/plain": [
       "{'2021-11-29 13:06:39.076113': {'La frase del día es': 'When you`re a kid growing up, and you think you`re gay, you know that you`re different you`re often teased and it can really destroy your self-esteem. But sports can be great for building self-esteem.'}}"
      ]
     },
     "execution_count": 21,
     "metadata": {},
     "output_type": "execute_result"
    }
   ],
   "source": [
    "frase_dia.json()"
   ]
  },
  {
   "cell_type": "markdown",
   "id": "35e910d1",
   "metadata": {},
   "source": [
    "### Endpoint FRASE RANDOM POR AUTOR Y GÉNERO:"
   ]
  },
  {
   "cell_type": "code",
   "execution_count": 22,
   "id": "cf2e6b3b",
   "metadata": {},
   "outputs": [],
   "source": [
    "genero=\"age\""
   ]
  },
  {
   "cell_type": "code",
   "execution_count": 23,
   "id": "39a30738",
   "metadata": {},
   "outputs": [],
   "source": [
    "autor=\"Voltaire\""
   ]
  },
  {
   "cell_type": "code",
   "execution_count": 31,
   "id": "901b16b1",
   "metadata": {},
   "outputs": [],
   "source": [
    "frase_aut_gen=requests.get(f\"http://127.0.0.1:5000/frases_/{genero}/{autor}\")"
   ]
  },
  {
   "cell_type": "code",
   "execution_count": 33,
   "id": "ff0270ed",
   "metadata": {},
   "outputs": [
    {
     "data": {
      "text/plain": [
       "{\"La frase de 'Voltaire' sobre 'age' es \": {'esta ': 'He who has not the spirit of this age, has all the misery of it.'}}"
      ]
     },
     "execution_count": 33,
     "metadata": {},
     "output_type": "execute_result"
    }
   ],
   "source": [
    "frase_aut_gen.json()"
   ]
  },
  {
   "cell_type": "markdown",
   "id": "a7725ab0",
   "metadata": {},
   "source": [
    "### Endpoint FRASE RANDOM POR AUTOR Y GÉNERO TRADUCIDA:"
   ]
  },
  {
   "cell_type": "code",
   "execution_count": 42,
   "id": "9287d226",
   "metadata": {},
   "outputs": [],
   "source": [
    "idioma=\"es\""
   ]
  },
  {
   "cell_type": "code",
   "execution_count": 43,
   "id": "bae2f8ec",
   "metadata": {},
   "outputs": [],
   "source": [
    "trans=requests.get(f\"http://127.0.0.1:5000/frases_lan/{genero}/{autor}?idioma={idioma}\")"
   ]
  },
  {
   "cell_type": "code",
   "execution_count": 44,
   "id": "6d50f787",
   "metadata": {},
   "outputs": [
    {
     "data": {
      "text/plain": [
       "'Traducción: {\"La frase de \\'Voltaire\\' sobre \\'age\\' es\": {\\'esta\\': \\'Lo que la mayoría de las personas considera una virtud, después de los 40 es simplemente una pérdida de energía.\\'}}'"
      ]
     },
     "execution_count": 44,
     "metadata": {},
     "output_type": "execute_result"
    }
   ],
   "source": [
    "trans.json()"
   ]
  },
  {
   "cell_type": "code",
   "execution_count": null,
   "id": "06041814",
   "metadata": {},
   "outputs": [],
   "source": []
  },
  {
   "cell_type": "code",
   "execution_count": 2,
   "id": "82e99dd6",
   "metadata": {},
   "outputs": [],
   "source": [
    "### Intentar hacer los endpoints con funciones de chequeo (como ha hecho ella en Mongo) y a ser posible con decoradores..."
   ]
  },
  {
   "cell_type": "code",
   "execution_count": 1,
   "id": "e79a18e8",
   "metadata": {},
   "outputs": [],
   "source": [
    "import string\n",
    "import spacy\n",
    "\n"
   ]
  },
  {
   "cell_type": "code",
   "execution_count": null,
   "id": "7570d075",
   "metadata": {},
   "outputs": [],
   "source": []
  }
 ],
 "metadata": {
  "kernelspec": {
   "display_name": "ironhack",
   "language": "python",
   "name": "ironhack"
  },
  "language_info": {
   "codemirror_mode": {
    "name": "ipython",
    "version": 3
   },
   "file_extension": ".py",
   "mimetype": "text/x-python",
   "name": "python",
   "nbconvert_exporter": "python",
   "pygments_lexer": "ipython3",
   "version": "3.8.5"
  }
 },
 "nbformat": 4,
 "nbformat_minor": 5
}
