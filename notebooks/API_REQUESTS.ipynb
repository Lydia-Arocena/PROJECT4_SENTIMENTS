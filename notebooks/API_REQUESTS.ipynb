{
 "cells": [
  {
   "cell_type": "code",
   "execution_count": 10,
   "id": "3cbd7cc8",
   "metadata": {},
   "outputs": [],
   "source": [
    "import requests"
   ]
  },
  {
   "cell_type": "markdown",
   "id": "0157d8e7",
   "metadata": {},
   "source": [
    "## LLAMADAS A LA API PARA OBTENER DATOS (GET):"
   ]
  },
  {
   "cell_type": "markdown",
   "id": "cd4a1526",
   "metadata": {},
   "source": [
    "#### Endpoint  AUTORES."
   ]
  },
  {
   "cell_type": "code",
   "execution_count": 17,
   "id": "951602e5",
   "metadata": {},
   "outputs": [],
   "source": [
    "autores=requests.get(\"http://127.0.0.1:5000/autores\")"
   ]
  },
  {
   "cell_type": "code",
   "execution_count": 18,
   "id": "8155f8c1",
   "metadata": {},
   "outputs": [
    {
     "data": {
      "text/plain": [
       "<Response [200]>"
      ]
     },
     "execution_count": 18,
     "metadata": {},
     "output_type": "execute_result"
    }
   ],
   "source": [
    "autores"
   ]
  },
  {
   "cell_type": "code",
   "execution_count": 19,
   "id": "71291fb4",
   "metadata": {},
   "outputs": [],
   "source": [
    "#autores.json()"
   ]
  },
  {
   "cell_type": "markdown",
   "id": "7a52c6cc",
   "metadata": {},
   "source": [
    "####  Endpoint  FRASES."
   ]
  },
  {
   "cell_type": "code",
   "execution_count": 24,
   "id": "75ceb388",
   "metadata": {},
   "outputs": [],
   "source": [
    "frases=requests.get(\"http://127.0.0.1:5000/frases\")"
   ]
  },
  {
   "cell_type": "code",
   "execution_count": 25,
   "id": "84607f85",
   "metadata": {},
   "outputs": [
    {
     "data": {
      "text/plain": [
       "<Response [200]>"
      ]
     },
     "execution_count": 25,
     "metadata": {},
     "output_type": "execute_result"
    }
   ],
   "source": [
    "frases"
   ]
  },
  {
   "cell_type": "code",
   "execution_count": 27,
   "id": "f7286098",
   "metadata": {},
   "outputs": [],
   "source": [
    "#frases.json()"
   ]
  },
  {
   "cell_type": "markdown",
   "id": "58415cce",
   "metadata": {},
   "source": [
    "####  Endpoint  FRASES POR AUTOR."
   ]
  },
  {
   "cell_type": "code",
   "execution_count": 99,
   "id": "47f42dd0",
   "metadata": {},
   "outputs": [],
   "source": [
    "autor=\"Voltaire\""
   ]
  },
  {
   "cell_type": "code",
   "execution_count": 100,
   "id": "0b63f889",
   "metadata": {},
   "outputs": [],
   "source": [
    "frase_porautor=requests.get(f\"http://127.0.0.1:5000/frases/{autor}\")"
   ]
  },
  {
   "cell_type": "code",
   "execution_count": 102,
   "id": "c42ec43d",
   "metadata": {},
   "outputs": [],
   "source": [
    "#frase_porautor.json()"
   ]
  },
  {
   "cell_type": "markdown",
   "id": "865b267b",
   "metadata": {},
   "source": [
    "####  Endpoint  FRASES POR GÉNERO."
   ]
  },
  {
   "cell_type": "code",
   "execution_count": 109,
   "id": "346f6338",
   "metadata": {},
   "outputs": [],
   "source": [
    "genero='age'"
   ]
  },
  {
   "cell_type": "code",
   "execution_count": 116,
   "id": "f8b5bb3c",
   "metadata": {},
   "outputs": [],
   "source": [
    "frase_porgenero=requests.get(f\"http://127.0.0.1:5000/frases_g/{genero}\")"
   ]
  },
  {
   "cell_type": "code",
   "execution_count": 118,
   "id": "08e6f776",
   "metadata": {},
   "outputs": [],
   "source": [
    "#frase_porgenero.json()"
   ]
  },
  {
   "cell_type": "markdown",
   "id": "a6abf346",
   "metadata": {},
   "source": [
    "#### Endpoint FRASE DEL DÍA:"
   ]
  },
  {
   "cell_type": "code",
   "execution_count": 20,
   "id": "91d7684d",
   "metadata": {},
   "outputs": [],
   "source": [
    "frase_dia=requests.get(\"http://127.0.0.1:5000/random\")"
   ]
  },
  {
   "cell_type": "code",
   "execution_count": 21,
   "id": "e90f8dd7",
   "metadata": {},
   "outputs": [
    {
     "data": {
      "text/plain": [
       "{'2021-11-29 13:06:39.076113': {'La frase del día es': 'When you`re a kid growing up, and you think you`re gay, you know that you`re different you`re often teased and it can really destroy your self-esteem. But sports can be great for building self-esteem.'}}"
      ]
     },
     "execution_count": 21,
     "metadata": {},
     "output_type": "execute_result"
    }
   ],
   "source": [
    "frase_dia.json()"
   ]
  },
  {
   "cell_type": "markdown",
   "id": "93fb3ffe",
   "metadata": {},
   "source": [
    "####  Endpoint FRASE RANDOM POR AUTOR Y GÉNERO:"
   ]
  },
  {
   "cell_type": "code",
   "execution_count": 22,
   "id": "0a6ef67c",
   "metadata": {},
   "outputs": [],
   "source": [
    "genero=\"age\""
   ]
  },
  {
   "cell_type": "code",
   "execution_count": 23,
   "id": "024885de",
   "metadata": {},
   "outputs": [],
   "source": [
    "autor=\"Voltaire\""
   ]
  },
  {
   "cell_type": "code",
   "execution_count": 31,
   "id": "fa9d117f",
   "metadata": {},
   "outputs": [],
   "source": [
    "frase_aut_gen=requests.get(f\"http://127.0.0.1:5000/frases_/{genero}/{autor}\")"
   ]
  },
  {
   "cell_type": "code",
   "execution_count": 33,
   "id": "347f7ebd",
   "metadata": {},
   "outputs": [
    {
     "data": {
      "text/plain": [
       "{\"La frase de 'Voltaire' sobre 'age' es \": {'esta ': 'He who has not the spirit of this age, has all the misery of it.'}}"
      ]
     },
     "execution_count": 33,
     "metadata": {},
     "output_type": "execute_result"
    }
   ],
   "source": [
    "frase_aut_gen.json()"
   ]
  },
  {
   "cell_type": "markdown",
   "id": "9bb3eca7",
   "metadata": {},
   "source": [
    "####  Endpoint FRASE RANDOM POR AUTOR Y GÉNERO TRADUCIDA:"
   ]
  },
  {
   "cell_type": "code",
   "execution_count": 42,
   "id": "f194ccf0",
   "metadata": {},
   "outputs": [],
   "source": [
    "idioma=\"es\""
   ]
  },
  {
   "cell_type": "code",
   "execution_count": 43,
   "id": "2da78957",
   "metadata": {},
   "outputs": [],
   "source": [
    "trans=requests.get(f\"http://127.0.0.1:5000/frases_lan/{genero}/{autor}?idioma={idioma}\")"
   ]
  },
  {
   "cell_type": "code",
   "execution_count": 44,
   "id": "a301887c",
   "metadata": {},
   "outputs": [
    {
     "data": {
      "text/plain": [
       "'Traducción: {\"La frase de \\'Voltaire\\' sobre \\'age\\' es\": {\\'esta\\': \\'Lo que la mayoría de las personas considera una virtud, después de los 40 es simplemente una pérdida de energía.\\'}}'"
      ]
     },
     "execution_count": 44,
     "metadata": {},
     "output_type": "execute_result"
    }
   ],
   "source": [
    "trans.json()"
   ]
  },
  {
   "cell_type": "markdown",
   "id": "bbe3b0cc",
   "metadata": {},
   "source": [
    "## Llamada a la API para INTRODUCIR datos (POST):"
   ]
  },
  {
   "cell_type": "code",
   "execution_count": null,
   "id": "296e8aad",
   "metadata": {},
   "outputs": [],
   "source": [
    "endpoint = \"http://127.0.0.1:5000/nuevafrase\""
   ]
  },
  {
   "cell_type": "code",
   "execution_count": null,
   "id": "5d2eadee",
   "metadata": {},
   "outputs": [],
   "source": [
    "author=\"Victor Hugo\""
   ]
  },
  {
   "cell_type": "code",
   "execution_count": null,
   "id": "4e5cee39",
   "metadata": {},
   "outputs": [],
   "source": [
    "genre=\"hope\""
   ]
  },
  {
   "cell_type": "code",
   "execution_count": 46,
   "id": "d68c8c0e",
   "metadata": {},
   "outputs": [],
   "source": [
    "insertar={\"author\":17, \"genre\":52, \"quote\":\"In joined hands there is still some token of hope, in the clenched fist none\"}"
   ]
  },
  {
   "cell_type": "code",
   "execution_count": 45,
   "id": "f495d3a1",
   "metadata": {},
   "outputs": [],
   "source": [
    "quote=\"In joined hands there is still some token of hope, in the clenched fist none\""
   ]
  },
  {
   "cell_type": "code",
   "execution_count": 47,
   "id": "0ef537cf",
   "metadata": {},
   "outputs": [
    {
     "data": {
      "text/plain": [
       "<Response [200]>"
      ]
     },
     "execution_count": 47,
     "metadata": {},
     "output_type": "execute_result"
    }
   ],
   "source": [
    "requests.post(\"http://127.0.0.1:5000/nuevafrase\", data=insertar)"
   ]
  },
  {
   "cell_type": "code",
   "execution_count": null,
   "id": "5534af1e",
   "metadata": {},
   "outputs": [],
   "source": []
  },
  {
   "cell_type": "code",
   "execution_count": null,
   "id": "2034de44",
   "metadata": {},
   "outputs": [],
   "source": []
  },
  {
   "cell_type": "code",
   "execution_count": 2,
   "id": "010eccf6",
   "metadata": {},
   "outputs": [],
   "source": [
    "### Intentar hacer los endpoints con funciones de chequeo (como ha hecho ella en Mongo) y a ser posible con decoradores..."
   ]
  },
  {
   "cell_type": "code",
   "execution_count": 1,
   "id": "d2dfdac7",
   "metadata": {},
   "outputs": [],
   "source": [
    "import string\n",
    "import spacy\n",
    "\n"
   ]
  },
  {
   "cell_type": "code",
   "execution_count": null,
   "id": "ff6178b1",
   "metadata": {},
   "outputs": [],
   "source": []
  }
 ],
 "metadata": {
  "kernelspec": {
   "display_name": "ironhack",
   "language": "python",
   "name": "ironhack"
  },
  "language_info": {
   "codemirror_mode": {
    "name": "ipython",
    "version": 3
   },
   "file_extension": ".py",
   "mimetype": "text/x-python",
   "name": "python",
   "nbconvert_exporter": "python",
   "pygments_lexer": "ipython3",
   "version": "3.8.5"
  }
 },
 "nbformat": 4,
 "nbformat_minor": 5
}
