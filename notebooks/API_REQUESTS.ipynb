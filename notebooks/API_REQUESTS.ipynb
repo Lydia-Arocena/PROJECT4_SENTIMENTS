{
 "cells": [
  {
   "cell_type": "code",
   "execution_count": 11,
   "id": "d66d4e4d",
   "metadata": {},
   "outputs": [],
   "source": [
    "import requests"
   ]
  },
  {
   "cell_type": "code",
   "execution_count": 18,
   "id": "cfdf9b6d",
   "metadata": {},
   "outputs": [],
   "source": [
    "autores=requests.get(\"http://127.0.0.1:5000/autores\")"
   ]
  },
  {
   "cell_type": "code",
   "execution_count": 19,
   "id": "a5edba6f",
   "metadata": {},
   "outputs": [
    {
     "data": {
      "text/plain": [
       "<Response [200]>"
      ]
     },
     "execution_count": 19,
     "metadata": {},
     "output_type": "execute_result"
    }
   ],
   "source": [
    "autores"
   ]
  },
  {
   "cell_type": "code",
   "execution_count": 21,
   "id": "236dd09c",
   "metadata": {},
   "outputs": [],
   "source": [
    "#autores.json()"
   ]
  },
  {
   "cell_type": "code",
   "execution_count": 24,
   "id": "b7c72bf7",
   "metadata": {},
   "outputs": [],
   "source": [
    "frases=requests.get(\"http://127.0.0.1:5000/frases\")"
   ]
  },
  {
   "cell_type": "code",
   "execution_count": 25,
   "id": "d772367f",
   "metadata": {},
   "outputs": [
    {
     "data": {
      "text/plain": [
       "<Response [200]>"
      ]
     },
     "execution_count": 25,
     "metadata": {},
     "output_type": "execute_result"
    }
   ],
   "source": [
    "frases"
   ]
  },
  {
   "cell_type": "code",
   "execution_count": 27,
   "id": "43160afe",
   "metadata": {},
   "outputs": [],
   "source": [
    "#frases.json()"
   ]
  },
  {
   "cell_type": "code",
   "execution_count": 87,
   "id": "4666589d",
   "metadata": {},
   "outputs": [],
   "source": [
    "autor=\"Voltaire\""
   ]
  },
  {
   "cell_type": "code",
   "execution_count": 88,
   "id": "e5785a0a",
   "metadata": {},
   "outputs": [],
   "source": [
    "frase_porautor=requests.get(f\"http://127.0.0.1:5000/frases/{autor}\")"
   ]
  },
  {
   "cell_type": "code",
   "execution_count": 89,
   "id": "a0dd4b37",
   "metadata": {},
   "outputs": [
    {
     "data": {
      "text/plain": [
       "<Response [500]>"
      ]
     },
     "execution_count": 89,
     "metadata": {},
     "output_type": "execute_result"
    }
   ],
   "source": [
    "frase_porautor"
   ]
  },
  {
   "cell_type": "code",
   "execution_count": 86,
   "id": "86a322e9",
   "metadata": {},
   "outputs": [],
   "source": [
    "#frase_porautor.json()"
   ]
  },
  {
   "cell_type": "code",
   "execution_count": null,
   "id": "aa4bdeb8",
   "metadata": {},
   "outputs": [],
   "source": [
    "### Intentar hacer los endpoints con funciones de chequeo (como ha hecho ella en Mongo) y a ser posible con decoradores..."
   ]
  },
  {
   "cell_type": "code",
   "execution_count": null,
   "id": "e81ed115",
   "metadata": {},
   "outputs": [],
   "source": []
  },
  {
   "cell_type": "code",
   "execution_count": 93,
   "id": "3c378d34",
   "metadata": {},
   "outputs": [],
   "source": [
    "import string\n",
    "import spacy\n",
    "\n"
   ]
  },
  {
   "cell_type": "code",
   "execution_count": null,
   "id": "99f6dedc",
   "metadata": {},
   "outputs": [],
   "source": []
  }
 ],
 "metadata": {
  "kernelspec": {
   "display_name": "ironhack",
   "language": "python",
   "name": "ironhack"
  },
  "language_info": {
   "codemirror_mode": {
    "name": "ipython",
    "version": 3
   },
   "file_extension": ".py",
   "mimetype": "text/x-python",
   "name": "python",
   "nbconvert_exporter": "python",
   "pygments_lexer": "ipython3",
   "version": "3.8.5"
  }
 },
 "nbformat": 4,
 "nbformat_minor": 5
}
