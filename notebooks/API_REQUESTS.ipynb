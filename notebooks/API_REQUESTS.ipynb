{
 "cells": [
  {
   "cell_type": "code",
   "execution_count": 11,
   "id": "59d816eb",
   "metadata": {},
   "outputs": [],
   "source": [
    "import requests"
   ]
  },
  {
   "cell_type": "markdown",
   "id": "dbdc257c",
   "metadata": {},
   "source": [
    "### Endpoint  AUTORES."
   ]
  },
  {
   "cell_type": "code",
   "execution_count": 18,
   "id": "6cd7b076",
   "metadata": {},
   "outputs": [],
   "source": [
    "autores=requests.get(\"http://127.0.0.1:5000/autores\")"
   ]
  },
  {
   "cell_type": "code",
   "execution_count": 19,
   "id": "707139e2",
   "metadata": {},
   "outputs": [
    {
     "data": {
      "text/plain": [
       "<Response [200]>"
      ]
     },
     "execution_count": 19,
     "metadata": {},
     "output_type": "execute_result"
    }
   ],
   "source": [
    "autores"
   ]
  },
  {
   "cell_type": "code",
   "execution_count": 21,
   "id": "d0114366",
   "metadata": {},
   "outputs": [],
   "source": [
    "#autores.json()"
   ]
  },
  {
   "cell_type": "markdown",
   "id": "58295d61",
   "metadata": {},
   "source": [
    "### Endpoint  FRASES."
   ]
  },
  {
   "cell_type": "code",
   "execution_count": 24,
   "id": "b910ad66",
   "metadata": {},
   "outputs": [],
   "source": [
    "frases=requests.get(\"http://127.0.0.1:5000/frases\")"
   ]
  },
  {
   "cell_type": "code",
   "execution_count": 25,
   "id": "aa482f7a",
   "metadata": {},
   "outputs": [
    {
     "data": {
      "text/plain": [
       "<Response [200]>"
      ]
     },
     "execution_count": 25,
     "metadata": {},
     "output_type": "execute_result"
    }
   ],
   "source": [
    "frases"
   ]
  },
  {
   "cell_type": "code",
   "execution_count": 27,
   "id": "073ea0ed",
   "metadata": {},
   "outputs": [],
   "source": [
    "#frases.json()"
   ]
  },
  {
   "cell_type": "markdown",
   "id": "55ad5ac7",
   "metadata": {},
   "source": [
    "### Endpoint  FRASES POR AUTOR."
   ]
  },
  {
   "cell_type": "code",
   "execution_count": 99,
   "id": "2129ba04",
   "metadata": {},
   "outputs": [],
   "source": [
    "autor=\"Voltaire\""
   ]
  },
  {
   "cell_type": "code",
   "execution_count": 100,
   "id": "fd3437e0",
   "metadata": {},
   "outputs": [],
   "source": [
    "frase_porautor=requests.get(f\"http://127.0.0.1:5000/frases/{autor}\")"
   ]
  },
  {
   "cell_type": "code",
   "execution_count": 102,
   "id": "9b37a8cc",
   "metadata": {},
   "outputs": [],
   "source": [
    "#frase_porautor.json()"
   ]
  },
  {
   "cell_type": "markdown",
   "id": "b7856025",
   "metadata": {},
   "source": [
    "### Endpoint  FRASES POR GÉNERO."
   ]
  },
  {
   "cell_type": "code",
   "execution_count": 109,
   "id": "03c23a92",
   "metadata": {},
   "outputs": [],
   "source": [
    "genero='age'"
   ]
  },
  {
   "cell_type": "code",
   "execution_count": 116,
   "id": "555a3a5e",
   "metadata": {},
   "outputs": [],
   "source": [
    "frase_porgenero=requests.get(f\"http://127.0.0.1:5000/frases_g/{genero}\")"
   ]
  },
  {
   "cell_type": "code",
   "execution_count": 118,
   "id": "54e71e50",
   "metadata": {},
   "outputs": [],
   "source": [
    "#frase_porgenero.json()"
   ]
  },
  {
   "cell_type": "markdown",
   "id": "9b13cb61",
   "metadata": {},
   "source": [
    "### Endpoint FRASE DEL DÍA:"
   ]
  },
  {
   "cell_type": "code",
   "execution_count": 132,
   "id": "f73cc7dd",
   "metadata": {},
   "outputs": [],
   "source": [
    "frase_dia=requests.get(\"http://127.0.0.1:5000/random\")"
   ]
  },
  {
   "cell_type": "code",
   "execution_count": 133,
   "id": "4293de00",
   "metadata": {},
   "outputs": [
    {
     "data": {
      "text/plain": [
       "{'2021-11-29 11:07:33.000718': {'La frase del día es': 'The origin of the absurd idea of immortal life is easy to discover it is kept alive by hope and fear, by childish faith, and by cowardice.'}}"
      ]
     },
     "execution_count": 133,
     "metadata": {},
     "output_type": "execute_result"
    }
   ],
   "source": [
    "frase_dia.json()"
   ]
  },
  {
   "cell_type": "code",
   "execution_count": null,
   "id": "31386cd9",
   "metadata": {},
   "outputs": [],
   "source": []
  },
  {
   "cell_type": "code",
   "execution_count": 1,
   "id": "082b55d9",
   "metadata": {},
   "outputs": [],
   "source": [
    "import string\n",
    "import spacy\n",
    "\n"
   ]
  },
  {
   "cell_type": "code",
   "execution_count": 2,
   "id": "29d024f9",
   "metadata": {},
   "outputs": [],
   "source": [
    "### Intentar hacer los endpoints con funciones de chequeo (como ha hecho ella en Mongo) y a ser posible con decoradores..."
   ]
  },
  {
   "cell_type": "code",
   "execution_count": 3,
   "id": "9bd91e69",
   "metadata": {},
   "outputs": [],
   "source": [
    "from googletrans import Translator"
   ]
  },
  {
   "cell_type": "code",
   "execution_count": 4,
   "id": "7f0df106",
   "metadata": {},
   "outputs": [],
   "source": [
    "translator = Translator()\n",
    "result = translator.translate(\"frase traducida\")"
   ]
  },
  {
   "cell_type": "code",
   "execution_count": 6,
   "id": "0a3d0ac6",
   "metadata": {},
   "outputs": [
    {
     "data": {
      "text/plain": [
       "'translated phrase'"
      ]
     },
     "execution_count": 6,
     "metadata": {},
     "output_type": "execute_result"
    }
   ],
   "source": [
    "result.text"
   ]
  },
  {
   "cell_type": "code",
   "execution_count": null,
   "id": "b77a8b6d",
   "metadata": {},
   "outputs": [],
   "source": []
  }
 ],
 "metadata": {
  "kernelspec": {
   "display_name": "ironhack",
   "language": "python",
   "name": "ironhack"
  },
  "language_info": {
   "codemirror_mode": {
    "name": "ipython",
    "version": 3
   },
   "file_extension": ".py",
   "mimetype": "text/x-python",
   "name": "python",
   "nbconvert_exporter": "python",
   "pygments_lexer": "ipython3",
   "version": "3.8.5"
  }
 },
 "nbformat": 4,
 "nbformat_minor": 5
}
